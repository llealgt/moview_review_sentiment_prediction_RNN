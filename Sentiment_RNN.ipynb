{
 "cells": [
  {
   "cell_type": "markdown",
   "metadata": {},
   "source": [
    "# Sentiment Analysis with an RNN\n",
    "\n",
    "In this notebook, you'll implement a recurrent neural network that performs sentiment analysis. Using an RNN rather than a feedfoward network is more accurate since we can include information about the *sequence* of words. Here we'll use a dataset of movie reviews, accompanied by labels.\n",
    "\n",
    "The architecture for this network is shown below.\n",
    "\n",
    "<img src=\"assets/network_diagram.png\" width=400px>\n",
    "\n",
    "Here, we'll pass in words to an embedding layer. We need an embedding layer because we have tens of thousands of words, so we'll need a more efficient representation for our input data than one-hot encoded vectors. You should have seen this before from the word2vec lesson. You can actually train up an embedding with word2vec and use it here. But it's good enough to just have an embedding layer and let the network learn the embedding table on it's own.\n",
    "\n",
    "From the embedding layer, the new representations will be passed to LSTM cells. These will add recurrent connections to the network so we can include information about the sequence of words in the data. Finally, the LSTM cells will go to a sigmoid output layer here. We're using the sigmoid because we're trying to predict if this text has positive or negative sentiment. The output layer will just be a single unit then, with a sigmoid activation function.\n",
    "\n",
    "We don't care about the sigmoid outputs except for the very last one, we can ignore the rest. We'll calculate the cost from the output of the last step and the training label."
   ]
  },
  {
   "cell_type": "code",
   "execution_count": 3,
   "metadata": {
    "collapsed": true
   },
   "outputs": [],
   "source": [
    "import numpy as np\n",
    "import tensorflow as tf"
   ]
  },
  {
   "cell_type": "code",
   "execution_count": 4,
   "metadata": {},
   "outputs": [],
   "source": [
    "with open('./reviews.txt', 'r') as f:\n",
    "    reviews = f.read()\n",
    "with open('./labels.txt', 'r') as f:\n",
    "    labels = f.read()"
   ]
  },
  {
   "cell_type": "code",
   "execution_count": 5,
   "metadata": {},
   "outputs": [
    {
     "data": {
      "text/plain": [
       "'bromwell high is a cartoon comedy . it ran at the same time as some other programs about school life  such as  teachers  . my   years in the teaching profession lead me to believe that bromwell high  s satire is much closer to reality than is  teachers  . the scramble to survive financially  the insightful students who can see right through their pathetic teachers  pomp  the pettiness of the whole situation  all remind me of the schools i knew and their students . when i saw the episode in which a student repeatedly tried to burn down the school  i immediately recalled . . . . . . . . . at . . . . . . . . . . high . a classic line inspector i  m here to sack one of your teachers . student welcome to bromwell high . i expect that many adults of my age think that bromwell high is far fetched . what a pity that it isn  t   \\nstory of a man who has unnatural feelings for a pig . starts out with a opening scene that is a terrific example of absurd comedy . a formal orchestra audience is turned into an insane  violent mob by the crazy chantings of it  s singers . unfortunately it stays absurd the whole time with no general narrative eventually making it just too off putting . even those from the era should be turned off . the cryptic dialogue would make shakespeare seem easy to a third grader . on a technical level it  s better than you might think with some good cinematography by future great vilmos zsigmond . future stars sally kirkland and frederic forrest can be seen briefly .  \\nhomelessness  or houselessness as george carlin stated  has been an issue for years but never a plan to help those on the street that were once considered human who did everything from going to school  work  or vote for the matter . most people think of the homeless as just a lost cause while worrying about things such as racism  the war on iraq  pressuring kids to succeed  technology  the elections  inflation  or worrying if they  ll be next to end up on the streets .  br    br   but what if y'"
      ]
     },
     "execution_count": 5,
     "metadata": {},
     "output_type": "execute_result"
    }
   ],
   "source": [
    "reviews[:2000]"
   ]
  },
  {
   "cell_type": "markdown",
   "metadata": {},
   "source": [
    "## Data preprocessing\n",
    "\n",
    "The first step when building a neural network model is getting your data into the proper form to feed into the network. Since we're using embedding layers, we'll need to encode each word with an integer. We'll also want to clean it up a bit.\n",
    "\n",
    "You can see an example of the reviews data above. We'll want to get rid of those periods. Also, you might notice that the reviews are delimited with newlines `\\n`. To deal with those, I'm going to split the text into each review using `\\n` as the delimiter. Then I can combined all the reviews back together into one big string.\n",
    "\n",
    "First, let's remove all punctuation. Then get all the text without the newlines and split it into individual words."
   ]
  },
  {
   "cell_type": "code",
   "execution_count": 6,
   "metadata": {
    "collapsed": true
   },
   "outputs": [],
   "source": [
    "from string import punctuation\n",
    "all_text = ''.join([c for c in reviews if c not in punctuation])\n",
    "reviews = all_text.split('\\n')\n",
    "\n",
    "all_text = ' '.join(reviews)\n",
    "words = all_text.split()"
   ]
  },
  {
   "cell_type": "code",
   "execution_count": 7,
   "metadata": {},
   "outputs": [
    {
     "data": {
      "text/plain": [
       "'bromwell high is a cartoon comedy  it ran at the same time as some other programs about school life  such as  teachers   my   years in the teaching profession lead me to believe that bromwell high  s satire is much closer to reality than is  teachers   the scramble to survive financially  the insightful students who can see right through their pathetic teachers  pomp  the pettiness of the whole situation  all remind me of the schools i knew and their students  when i saw the episode in which a student repeatedly tried to burn down the school  i immediately recalled          at           high  a classic line inspector i  m here to sack one of your teachers  student welcome to bromwell high  i expect that many adults of my age think that bromwell high is far fetched  what a pity that it isn  t    story of a man who has unnatural feelings for a pig  starts out with a opening scene that is a terrific example of absurd comedy  a formal orchestra audience is turned into an insane  violent mob by the crazy chantings of it  s singers  unfortunately it stays absurd the whole time with no general narrative eventually making it just too off putting  even those from the era should be turned off  the cryptic dialogue would make shakespeare seem easy to a third grader  on a technical level it  s better than you might think with some good cinematography by future great vilmos zsigmond  future stars sally kirkland and frederic forrest can be seen briefly    homelessness  or houselessness as george carlin stated  has been an issue for years but never a plan to help those on the street that were once considered human who did everything from going to school  work  or vote for the matter  most people think of the homeless as just a lost cause while worrying about things such as racism  the war on iraq  pressuring kids to succeed  technology  the elections  inflation  or worrying if they  ll be next to end up on the streets   br    br   but what if you were given a bet to live on the st'"
      ]
     },
     "execution_count": 7,
     "metadata": {},
     "output_type": "execute_result"
    }
   ],
   "source": [
    "all_text[:2000]"
   ]
  },
  {
   "cell_type": "code",
   "execution_count": 8,
   "metadata": {},
   "outputs": [
    {
     "data": {
      "text/plain": [
       "['bromwell',\n",
       " 'high',\n",
       " 'is',\n",
       " 'a',\n",
       " 'cartoon',\n",
       " 'comedy',\n",
       " 'it',\n",
       " 'ran',\n",
       " 'at',\n",
       " 'the',\n",
       " 'same',\n",
       " 'time',\n",
       " 'as',\n",
       " 'some',\n",
       " 'other',\n",
       " 'programs',\n",
       " 'about',\n",
       " 'school',\n",
       " 'life',\n",
       " 'such',\n",
       " 'as',\n",
       " 'teachers',\n",
       " 'my',\n",
       " 'years',\n",
       " 'in',\n",
       " 'the',\n",
       " 'teaching',\n",
       " 'profession',\n",
       " 'lead',\n",
       " 'me',\n",
       " 'to',\n",
       " 'believe',\n",
       " 'that',\n",
       " 'bromwell',\n",
       " 'high',\n",
       " 's',\n",
       " 'satire',\n",
       " 'is',\n",
       " 'much',\n",
       " 'closer',\n",
       " 'to',\n",
       " 'reality',\n",
       " 'than',\n",
       " 'is',\n",
       " 'teachers',\n",
       " 'the',\n",
       " 'scramble',\n",
       " 'to',\n",
       " 'survive',\n",
       " 'financially',\n",
       " 'the',\n",
       " 'insightful',\n",
       " 'students',\n",
       " 'who',\n",
       " 'can',\n",
       " 'see',\n",
       " 'right',\n",
       " 'through',\n",
       " 'their',\n",
       " 'pathetic',\n",
       " 'teachers',\n",
       " 'pomp',\n",
       " 'the',\n",
       " 'pettiness',\n",
       " 'of',\n",
       " 'the',\n",
       " 'whole',\n",
       " 'situation',\n",
       " 'all',\n",
       " 'remind',\n",
       " 'me',\n",
       " 'of',\n",
       " 'the',\n",
       " 'schools',\n",
       " 'i',\n",
       " 'knew',\n",
       " 'and',\n",
       " 'their',\n",
       " 'students',\n",
       " 'when',\n",
       " 'i',\n",
       " 'saw',\n",
       " 'the',\n",
       " 'episode',\n",
       " 'in',\n",
       " 'which',\n",
       " 'a',\n",
       " 'student',\n",
       " 'repeatedly',\n",
       " 'tried',\n",
       " 'to',\n",
       " 'burn',\n",
       " 'down',\n",
       " 'the',\n",
       " 'school',\n",
       " 'i',\n",
       " 'immediately',\n",
       " 'recalled',\n",
       " 'at',\n",
       " 'high']"
      ]
     },
     "execution_count": 8,
     "metadata": {},
     "output_type": "execute_result"
    }
   ],
   "source": [
    "words[:100]"
   ]
  },
  {
   "cell_type": "markdown",
   "metadata": {},
   "source": [
    "### Encoding the words\n",
    "\n",
    "The embedding lookup requires that we pass in integers to our network. The easiest way to do this is to create dictionaries that map the words in the vocabulary to integers. Then we can convert each of our reviews into integers so they can be passed into the network.\n",
    "\n",
    "> **Exercise:** Now you're going to encode the words with integers. Build a dictionary that maps words to integers. Later we're going to pad our input vectors with zeros, so make sure the integers **start at 1, not 0**.\n",
    "> Also, convert the reviews to integers and store the reviews in a new list called `reviews_ints`. "
   ]
  },
  {
   "cell_type": "code",
   "execution_count": 9,
   "metadata": {
    "collapsed": true
   },
   "outputs": [],
   "source": [
    "# Create your dictionary that maps vocab words to integers here\n",
    "vocab_to_int = {word:index for index,word in enumerate(set(words),1)}\n",
    "vocab_to_int[\"<PAD>\"] = 0\n",
    "\n",
    "# Convert the reviews to integers, same shape as reviews list, but with integers\n",
    "reviews_ints = []\n",
    "for review in reviews:\n",
    "    reviews_ints.append([vocab_to_int[word] for word in review.split()])"
   ]
  },
  {
   "cell_type": "markdown",
   "metadata": {},
   "source": [
    "### Encoding the labels\n",
    "\n",
    "Our labels are \"positive\" or \"negative\". To use these labels in our network, we need to convert them to 0 and 1.\n",
    "\n",
    "> **Exercise:** Convert labels from `positive` and `negative` to 1 and 0, respectively."
   ]
  },
  {
   "cell_type": "code",
   "execution_count": 10,
   "metadata": {
    "collapsed": true
   },
   "outputs": [],
   "source": [
    "# Convert labels to 1s and 0s for 'positive' and 'negative'\n",
    "labels_list = labels.split('\\n')\n",
    "labels = [1 if label =='positive' else 0 for label in labels_list]\n",
    "labels = np.array(labels)"
   ]
  },
  {
   "cell_type": "markdown",
   "metadata": {},
   "source": [
    "If you built `labels` correctly, you should see the next output."
   ]
  },
  {
   "cell_type": "code",
   "execution_count": 11,
   "metadata": {},
   "outputs": [
    {
     "name": "stdout",
     "output_type": "stream",
     "text": [
      "Zero-length reviews: 1\n",
      "Maximum review length: 2514\n"
     ]
    }
   ],
   "source": [
    "from collections import Counter\n",
    "review_lens = Counter([len(x) for x in reviews_ints])\n",
    "print(\"Zero-length reviews: {}\".format(review_lens[0]))\n",
    "print(\"Maximum review length: {}\".format(max(review_lens)))"
   ]
  },
  {
   "cell_type": "markdown",
   "metadata": {},
   "source": [
    "Okay, a couple issues here. We seem to have one review with zero length. And, the maximum review length is way too many steps for our RNN. Let's truncate to 200 steps. For reviews shorter than 200, we'll pad with 0s. For reviews longer than 200, we can truncate them to the first 200 characters.\n",
    "\n",
    "> **Exercise:** First, remove the review with zero length from the `reviews_ints` list."
   ]
  },
  {
   "cell_type": "code",
   "execution_count": 12,
   "metadata": {
    "collapsed": true
   },
   "outputs": [],
   "source": [
    "# Filter out that review with 0 length\n",
    "non_zero_reviews = []\n",
    "non_zero_labels = []\n",
    "\n",
    "for index,review in enumerate(reviews_ints):\n",
    "    if len(review)>0:\n",
    "        non_zero_reviews.append(review)\n",
    "        non_zero_labels.append(labels[index])\n",
    "        \n",
    "reviews_ints = np.array(non_zero_reviews)\n",
    "labels = np.array(non_zero_labels)\n",
    "\n"
   ]
  },
  {
   "cell_type": "markdown",
   "metadata": {},
   "source": [
    "> **Exercise:** Now, create an array `features` that contains the data we'll pass to the network. The data should come from `review_ints`, since we want to feed integers to the network. Each row should be 200 elements long. For reviews shorter than 200 words, left pad with 0s. That is, if the review is `['best', 'movie', 'ever']`, `[117, 18, 128]` as integers, the row will look like `[0, 0, 0, ..., 0, 117, 18, 128]`. For reviews longer than 200, use on the first 200 words as the feature vector.\n",
    "\n",
    "This isn't trivial and there are a bunch of ways to do this. But, if you're going to be building your own deep learning networks, you're going to have to get used to preparing your data.\n",
    "\n"
   ]
  },
  {
   "cell_type": "code",
   "execution_count": 13,
   "metadata": {
    "collapsed": true
   },
   "outputs": [],
   "source": [
    "seq_len = 200\n",
    "features = []\n",
    "\n",
    "for review in reviews_ints:\n",
    "    review_size = len(review)\n",
    "    if review_size < seq_len:\n",
    "        padded_review = [0] * seq_len\n",
    "        padded_review[seq_len-len(review):seq_len] = review\n",
    "    elif review_size > seq_len:\n",
    "        padded_review = review[:seq_len]\n",
    "    \n",
    "    features.append(padded_review)\n",
    "features  = np.array(features)"
   ]
  },
  {
   "cell_type": "code",
   "execution_count": 14,
   "metadata": {},
   "outputs": [
    {
     "data": {
      "text/plain": [
       "array([[    0,     0,     0,     0,     0,     0,     0,     0,     0,\n",
       "            0,     0,     0,     0,     0,     0,     0,     0,     0,\n",
       "            0,     0,     0,     0,     0,     0,     0,     0,     0,\n",
       "            0,     0,     0,     0,     0,     0,     0,     0,     0,\n",
       "            0,     0,     0,     0,     0,     0,     0,     0,     0,\n",
       "            0,     0,     0,     0,     0,     0,     0,     0,     0,\n",
       "            0,     0,     0,     0,     0,     0, 69664, 33702, 52430,\n",
       "        58938, 25396, 26672, 42096, 62345,   209,  2073, 51364, 62067,\n",
       "        28279, 49196, 49791, 39557, 65988, 49801, 24815,  3253, 28279,\n",
       "        53593, 16729, 62917, 67593,  2073, 64014,  5754, 38415, 16253,\n",
       "        59177,  4157, 49859, 69664, 33702, 59128, 26586, 52430, 31062,\n",
       "         1079],\n",
       "       [    0,     0,     0,     0,     0,     0,     0,     0,     0,\n",
       "            0,     0,     0,     0,     0,     0,     0,     0,     0,\n",
       "            0,     0,     0,     0,     0,     0,     0,     0,     0,\n",
       "            0,     0,     0,     0,     0,     0,     0,     0,     0,\n",
       "            0,     0,     0,     0,     0,     0,     0,     0,     0,\n",
       "            0,     0,     0,     0,     0,     0,     0,     0,     0,\n",
       "            0,     0,     0,     0,     0,     0,     0,     0,     0,\n",
       "            0,     0,     0,     0,     0,     0,     0,     0,     0,\n",
       "            0,     0,     0,     0,     0,     0,     0,     0,     0,\n",
       "            0,     0,     0,     0,     0, 65920, 14042, 58938, 33675,\n",
       "        73078, 67687, 57655, 66820, 70151, 58938, 46623, 48958, 12016,\n",
       "        64867],\n",
       "       [46991, 45503, 30620, 28279, 69280, 10091, 68495, 67687, 28216,\n",
       "        15385, 59951, 70151, 62917, 62740, 44706, 58938, 53489, 59177,\n",
       "        58591, 30855, 25798,  2073, 40042, 49859, 19232,  5018, 61019,\n",
       "        25429, 73078, 70369, 33951, 60657, 68979, 59177, 49801, 18561,\n",
       "        45503, 15498, 70151,  2073, 56742,  1254, 45650, 72395, 14042,\n",
       "         2073, 36654, 28279, 24156, 58938, 66359, 27826,   822, 15511,\n",
       "        65988, 49679,  3253, 28279, 11864,  2073, 33665, 25798, 42352,\n",
       "        27978, 47965, 59177, 71987, 37382,  2073, 30356, 63203, 45503,\n",
       "        15511, 22193,  4604,  8091, 55653, 31597, 59177, 44371, 37863,\n",
       "        25798,  2073, 16533, 19984, 19984, 62740, 66406, 22193, 19118,\n",
       "        19232, 49701, 58938, 12479, 59177, 10254, 25798,  2073, 16533,\n",
       "        70151],\n",
       "       [  509, 48958, 28279, 58938, 38028, 63246, 40839, 46932, 52430,\n",
       "        12847, 37863, 64867, 69565, 11043,  3253, 23060, 59177,  2681,\n",
       "        21246, 57895, 69084, 14247, 22850, 73078, 52430, 73991, 21947,\n",
       "        58938, 65841, 14042, 53655, 59128, 59177, 18840, 56154, 67593,\n",
       "        19743, 14042, 42096, 56669, 24230, 59177,  2073, 21855, 28279,\n",
       "        58938, 61024, 48350, 25798,  3935, 52430, 69084, 50159, 35167,\n",
       "        72593, 11317, 65142, 32083,  2073, 40839,  6810, 34400, 29201,\n",
       "        28279, 16333, 62740, 35271, 41700,  2073, 46932, 52430, 48303,\n",
       "        26927, 27393,  2073,  6884, 33751, 56210, 58336, 57552, 18840,\n",
       "        55343, 67529, 59128, 46200, 17961, 38967, 38849, 67201, 30553,\n",
       "        73078,  1316,  2073, 29052, 18117, 12016, 64867, 69833, 23111,\n",
       "         4604],\n",
       "       [    0,     0,     0,     0,     0,     0,     0,     0,     0,\n",
       "            0,     0,     0,     0,     0,     0,     0,     0,     0,\n",
       "            0,     0,     0,     0,     0,     0,     0,     0,     0,\n",
       "            0,     0,     0,     0,     0,     0,     0,     0,     0,\n",
       "            0,     0,     0,     0,     0,     0,     0,     0,     0,\n",
       "            0,     0,     0,     0,     0, 45563, 57877, 33971, 27393,\n",
       "        57865, 38328, 14826, 68206, 22854, 27591, 63502, 10550, 38058,\n",
       "        53350, 35215, 46092, 21883, 35140, 67593, 27728, 60677, 32903,\n",
       "        43101, 59177, 29388,  2073, 67036, 25798, 51644, 52430, 58938,\n",
       "         8435, 28279, 43994, 28279, 46809, 67593,  9096, 68368,  2073,\n",
       "        20058, 25798, 21905, 52430, 48350, 57252, 24880, 56669, 11365,\n",
       "        14042],\n",
       "       [    0,     0,     0,     0,     0,     0,     0,     0,     0,\n",
       "            0,     0,     0,     0,     0,     0,     0,     0,     0,\n",
       "            0,     0,     0,     0,     0,     0,     0,     0,     0,\n",
       "            0,     0,     0,     0,     0,     0,     0,     0,     0,\n",
       "            0,     0,     0,     0,     0,     0,     0,     0,     0,\n",
       "            0,     0,     0,     0,     0,     0,     0,     0,     0,\n",
       "        27209, 27690, 29600,  9005, 10550,  5128, 69318, 26845, 16729,\n",
       "        73903, 25798,   209, 28716, 32523, 25798,  2073, 29435, 14042,\n",
       "         2073, 30316,  7109, 27209, 32475, 30774, 59177, 37194, 14042,\n",
       "        53554, 59143, 34314, 44018,  2073, 60337, 64867, 65142, 30316,\n",
       "        33675,   730,  2073, 35173, 35140, 45537, 50584, 28279, 56669,\n",
       "        27163],\n",
       "       [    0,     0,     0,     0,     0,     0,     0,     0,     0,\n",
       "            0,     0,     0,     0,     0,     0,     0,     0,     0,\n",
       "            0,     0,     0,     0,     0,     0,     0,     0,     0,\n",
       "            0,     0,     0,     0,     0,     0,     0,     0,     0,\n",
       "            0,     0,     0,     0,     0,     0,     0,     0,     0,\n",
       "            0,     0,     0,     0,     0,     0,     0,     0,     0,\n",
       "            0,     0,     0,     0,     0,     0,     0,     0,     0,\n",
       "            0,     0,     0,     0,     0,     0,     0,     0,     0,\n",
       "            0,     0,     0,     0, 27209, 52430, 47603,  2073,  1254,\n",
       "        57162, 27690, 19065,  2073, 52235, 45389, 66740, 71400, 20151,\n",
       "        42096, 13220, 48398, 54143, 58938, 68750, 18504, 14042, 46991,\n",
       "        30793],\n",
       "       [    0,     0,     0,     0,     0,     0,     0,     0,     0,\n",
       "            0,     0,     0,     0,     0,     0,     0,     0,     0,\n",
       "            0,     0,     0,     0,     0,     0,     0,     0,     0,\n",
       "            0,     0,     0,     0,     0,     0,     0,     0,     0,\n",
       "            0,     0,     0,     0,     0,     0,     0,     0,     0,\n",
       "            0,     0,  5008, 18331, 10550,  4293, 27209, 52430, 50803,\n",
       "        59177, 55653, 15385,  3247, 27690, 62740, 19780,  4604, 23943,\n",
       "        38058, 63344, 12016, 70099,   209,  2073, 14044, 13468, 45650,\n",
       "        24856, 60172,  8482, 64049, 12016, 46092, 48398, 47143, 10846,\n",
       "         2073, 18989, 11955, 46092, 72333, 55454, 15923, 13347, 27209,\n",
       "        65920, 52430,  7894, 38784, 59177, 47143,  2073, 52716, 14042,\n",
       "        58938],\n",
       "       [    0,     0,     0,     0,     0,     0,     0,     0,     0,\n",
       "            0,     0,     0,     0,     0,     0,     0,     0,     0,\n",
       "            0,     0,     0,     0,     0,     0,     0,     0,     0,\n",
       "            0,     0,     0,     0,     0,     0,     0,     0,     0,\n",
       "            0,     0,     0,     0,     0,     0,     0,     0,     0,\n",
       "            0,     0,     0,     0,     0,     0,     0,     0,     0,\n",
       "            0,     0,     0,     0,     0,     0,     0,     0,     0,\n",
       "            0,     0,     0,     0,     0,     0,     0,     0,     0,\n",
       "            0,     0,     0,     0,     0,     0,     0, 27209, 52430,\n",
       "        48398,  2073, 17119, 38691, 52235, 27690, 42096, 15923, 31062,\n",
       "        35235, 15599, 41209,  1254, 14042, 18840, 70507, 46092, 43516,\n",
       "        40480],\n",
       "       [59143, 10550, 15923, 28284, 16729,  2459,  5827, 16253, 52431,\n",
       "        59177,  2073, 38911, 59177, 12109, 49919, 42096, 15923, 49905,\n",
       "        14042, 17020, 70507, 10550, 47009, 64867, 16729,  2459, 62740,\n",
       "        27209, 15923,  2073, 68460, 49905, 41532, 32749, 12016, 14042,\n",
       "        68947, 39141, 10550, 40480, 44706, 35215, 49919, 33148, 24156,\n",
       "        55480, 46092, 10550, 24856, 38058, 54656, 12016,  2073, 46167,\n",
       "        14042, 16729, 24815, 62441, 42096, 66406, 58938,  2612, 15732,\n",
       "        46092, 48607,  1923, 21073, 14042, 59128, 36917, 46092, 27419,\n",
       "        68499, 67817,  7829, 52430, 49905, 14042, 16729, 52722, 72812,\n",
       "        62740, 49919, 52430, 27393, 53412,  2073,  3268, 21073, 14042,\n",
       "         6599, 14042, 18840, 31693, 67593,  2073, 71357, 72591, 14042,\n",
       "        28222]])"
      ]
     },
     "execution_count": 14,
     "metadata": {},
     "output_type": "execute_result"
    }
   ],
   "source": [
    "features[:10,:100]"
   ]
  },
  {
   "cell_type": "markdown",
   "metadata": {},
   "source": [
    "## Training, Validation, Test\n",
    "\n"
   ]
  },
  {
   "cell_type": "markdown",
   "metadata": {},
   "source": [
    "With our data in nice shape, we'll split it into training, validation, and test sets.\n",
    "\n",
    "> **Exercise:** Create the training, validation, and test sets here. You'll need to create sets for the features and the labels, `train_x` and `train_y` for example. Define a split fraction, `split_frac` as the fraction of data to keep in the training set. Usually this is set to 0.8 or 0.9. The rest of the data will be split in half to create the validation and testing data."
   ]
  },
  {
   "cell_type": "code",
   "execution_count": 15,
   "metadata": {},
   "outputs": [
    {
     "name": "stdout",
     "output_type": "stream",
     "text": [
      "\t\t\tFeature Shapes:\n",
      "Train set: \t\t(20000, 200) \n",
      "Validation set: \t(2500, 200) \n",
      "Test set: \t\t(2500, 200)\n"
     ]
    }
   ],
   "source": [
    "split_frac = 0.8\n",
    "\n",
    "split_index  = int(len(features)*split_frac)\n",
    "\n",
    "train_x, val_x = features[:split_index],features[split_index:]\n",
    "train_y, val_y = labels[:split_index],labels[split_index:]\n",
    "\n",
    "split_index = int(len(val_x)/2)\n",
    "\n",
    "val_x, test_x = val_x[:split_index],val_x[split_index:]\n",
    "val_y, test_y = val_y[:split_index],val_y[split_index:]\n",
    "\n",
    "print(\"\\t\\t\\tFeature Shapes:\")\n",
    "print(\"Train set: \\t\\t{}\".format(train_x.shape), \n",
    "      \"\\nValidation set: \\t{}\".format(val_x.shape),\n",
    "      \"\\nTest set: \\t\\t{}\".format(test_x.shape))"
   ]
  },
  {
   "cell_type": "markdown",
   "metadata": {},
   "source": [
    "With train, validation, and text fractions of 0.8, 0.1, 0.1, the final shapes should look like:\n",
    "```\n",
    "                    Feature Shapes:\n",
    "Train set: \t\t (20000, 200) \n",
    "Validation set: \t(2500, 200) \n",
    "Test set: \t\t  (2500, 200)\n",
    "```"
   ]
  },
  {
   "cell_type": "markdown",
   "metadata": {},
   "source": [
    "## Build the graph\n",
    "\n",
    "Here, we'll build the graph. First up, defining the hyperparameters.\n",
    "\n",
    "* `lstm_size`: Number of units in the hidden layers in the LSTM cells. Usually larger is better performance wise. Common values are 128, 256, 512, etc.\n",
    "* `lstm_layers`: Number of LSTM layers in the network. I'd start with 1, then add more if I'm underfitting.\n",
    "* `batch_size`: The number of reviews to feed the network in one training pass. Typically this should be set as high as you can go without running out of memory.\n",
    "* `learning_rate`: Learning rate"
   ]
  },
  {
   "cell_type": "code",
   "execution_count": 16,
   "metadata": {
    "collapsed": true
   },
   "outputs": [],
   "source": [
    "lstm_size = 300\n",
    "lstm_layers = 1\n",
    "batch_size = 500\n",
    "learning_rate = 0.0005"
   ]
  },
  {
   "cell_type": "markdown",
   "metadata": {},
   "source": [
    "For the network itself, we'll be passing in our 200 element long review vectors. Each batch will be `batch_size` vectors. We'll also be using dropout on the LSTM layer, so we'll make a placeholder for the keep probability."
   ]
  },
  {
   "cell_type": "markdown",
   "metadata": {},
   "source": [
    "> **Exercise:** Create the `inputs_`, `labels_`, and drop out `keep_prob` placeholders using `tf.placeholder`. `labels_` needs to be two-dimensional to work with some functions later.  Since `keep_prob` is a scalar (a 0-dimensional tensor), you shouldn't provide a size to `tf.placeholder`."
   ]
  },
  {
   "cell_type": "code",
   "execution_count": 17,
   "metadata": {
    "collapsed": true
   },
   "outputs": [],
   "source": [
    "n_words = len(vocab_to_int)\n",
    "\n",
    "# Create the graph object\n",
    "graph = tf.Graph()\n",
    "# Add nodes to the graph\n",
    "with graph.as_default():\n",
    "    inputs_ = tf.placeholder(tf.int32,shape=[None,None],name=\"inputs\")\n",
    "    labels_ = tf.placeholder(tf.int32,shape=[None,None],name = \"labels\")\n",
    "    keep_prob = tf.placeholder(tf.float32,name =\"keep_prob\")"
   ]
  },
  {
   "cell_type": "markdown",
   "metadata": {},
   "source": [
    "### Embedding\n",
    "\n",
    "Now we'll add an embedding layer. We need to do this because there are 74000 words in our vocabulary. It is massively inefficient to one-hot encode our classes here. You should remember dealing with this problem from the word2vec lesson. Instead of one-hot encoding, we can have an embedding layer and use that layer as a lookup table. You could train an embedding layer using word2vec, then load it here. But, it's fine to just make a new layer and let the network learn the weights.\n",
    "\n",
    "> **Exercise:** Create the embedding lookup matrix as a `tf.Variable`. Use that embedding matrix to get the embedded vectors to pass to the LSTM cell with [`tf.nn.embedding_lookup`](https://www.tensorflow.org/api_docs/python/tf/nn/embedding_lookup). This function takes the embedding matrix and an input tensor, such as the review vectors. Then, it'll return another tensor with the embedded vectors. So, if the embedding layer has 200 units, the function will return a tensor with size [batch_size, 200].\n",
    "\n"
   ]
  },
  {
   "cell_type": "code",
   "execution_count": 18,
   "metadata": {
    "collapsed": true
   },
   "outputs": [],
   "source": [
    "# Size of the embedding vectors (number of units in the embedding layer)\n",
    "embed_size = 300 \n",
    "\n",
    "with graph.as_default():\n",
    "    embedding = tf.Variable(tf.random_uniform((n_words,embed_size),-0.5,0.5))\n",
    "    embed = tf.nn.embedding_lookup(embedding,inputs_)"
   ]
  },
  {
   "cell_type": "markdown",
   "metadata": {},
   "source": [
    "### LSTM cell\n",
    "\n",
    "<img src=\"assets/network_diagram.png\" width=400px>\n",
    "\n",
    "Next, we'll create our LSTM cells to use in the recurrent network ([TensorFlow documentation](https://www.tensorflow.org/api_docs/python/tf/contrib/rnn)). Here we are just defining what the cells look like. This isn't actually building the graph, just defining the type of cells we want in our graph.\n",
    "\n",
    "To create a basic LSTM cell for the graph, you'll want to use `tf.contrib.rnn.BasicLSTMCell`. Looking at the function documentation:\n",
    "\n",
    "```\n",
    "tf.contrib.rnn.BasicLSTMCell(num_units, forget_bias=1.0, input_size=None, state_is_tuple=True, activation=<function tanh at 0x109f1ef28>)\n",
    "```\n",
    "\n",
    "you can see it takes a parameter called `num_units`, the number of units in the cell, called `lstm_size` in this code. So then, you can write something like \n",
    "\n",
    "```\n",
    "lstm = tf.contrib.rnn.BasicLSTMCell(num_units)\n",
    "```\n",
    "\n",
    "to create an LSTM cell with `num_units`. Next, you can add dropout to the cell with `tf.contrib.rnn.DropoutWrapper`. This just wraps the cell in another cell, but with dropout added to the inputs and/or outputs. It's a really convenient way to make your network better with almost no effort! So you'd do something like\n",
    "\n",
    "```\n",
    "drop = tf.contrib.rnn.DropoutWrapper(cell, output_keep_prob=keep_prob)\n",
    "```\n",
    "\n",
    "Most of the time, your network will have better performance with more layers. That's sort of the magic of deep learning, adding more layers allows the network to learn really complex relationships. Again, there is a simple way to create multiple layers of LSTM cells with `tf.contrib.rnn.MultiRNNCell`:\n",
    "\n",
    "```\n",
    "cell = tf.contrib.rnn.MultiRNNCell([drop] * lstm_layers)\n",
    "```\n",
    "\n",
    "Here, `[drop] * lstm_layers` creates a list of cells (`drop`) that is `lstm_layers` long. The `MultiRNNCell` wrapper builds this into multiple layers of RNN cells, one for each cell in the list.\n",
    "\n",
    "So the final cell you're using in the network is actually multiple (or just one) LSTM cells with dropout. But it all works the same from an achitectural viewpoint, just a more complicated graph in the cell.\n",
    "\n",
    "> **Exercise:** Below, use `tf.contrib.rnn.BasicLSTMCell` to create an LSTM cell. Then, add drop out to it with `tf.contrib.rnn.DropoutWrapper`. Finally, create multiple LSTM layers with `tf.contrib.rnn.MultiRNNCell`.\n",
    "\n",
    "Here is [a tutorial on building RNNs](https://www.tensorflow.org/tutorials/recurrent) that will help you out.\n"
   ]
  },
  {
   "cell_type": "code",
   "execution_count": 19,
   "metadata": {
    "collapsed": true
   },
   "outputs": [],
   "source": [
    "with graph.as_default():\n",
    "    # Your basic LSTM cell\n",
    "    lstm = tf.contrib.rnn.BasicLSTMCell(num_units=lstm_size)\n",
    "    \n",
    "    # Add dropout to the cell\n",
    "    drop = tf.contrib.rnn.DropoutWrapper(lstm,output_keep_prob=keep_prob)\n",
    "    \n",
    "    # Stack up multiple LSTM layers, for deep learning\n",
    "    cell = tf.contrib.rnn.MultiRNNCell([drop]*lstm_layers)\n",
    "    \n",
    "    # Getting an initial state of all zeros\n",
    "    initial_state = cell.zero_state(batch_size, tf.float32)"
   ]
  },
  {
   "cell_type": "markdown",
   "metadata": {},
   "source": [
    "### RNN forward pass\n",
    "\n",
    "<img src=\"assets/network_diagram.png\" width=400px>\n",
    "\n",
    "Now we need to actually run the data through the RNN nodes. You can use [`tf.nn.dynamic_rnn`](https://www.tensorflow.org/api_docs/python/tf/nn/dynamic_rnn) to do this. You'd pass in the RNN cell you created (our multiple layered LSTM `cell` for instance), and the inputs to the network.\n",
    "\n",
    "```\n",
    "outputs, final_state = tf.nn.dynamic_rnn(cell, inputs, initial_state=initial_state)\n",
    "```\n",
    "\n",
    "Above I created an initial state, `initial_state`, to pass to the RNN. This is the cell state that is passed between the hidden layers in successive time steps. `tf.nn.dynamic_rnn` takes care of most of the work for us. We pass in our cell and the input to the cell, then it does the unrolling and everything else for us. It returns outputs for each time step and the final_state of the hidden layer.\n",
    "\n",
    "> **Exercise:** Use `tf.nn.dynamic_rnn` to add the forward pass through the RNN. Remember that we're actually passing in vectors from the embedding layer, `embed`.\n",
    "\n"
   ]
  },
  {
   "cell_type": "code",
   "execution_count": 20,
   "metadata": {
    "collapsed": true
   },
   "outputs": [],
   "source": [
    "with graph.as_default():\n",
    "    outputs, final_state = tf.nn.dynamic_rnn(cell,embed,initial_state=initial_state)"
   ]
  },
  {
   "cell_type": "markdown",
   "metadata": {},
   "source": [
    "### Output\n",
    "\n",
    "We only care about the final output, we'll be using that as our sentiment prediction. So we need to grab the last output with `outputs[:, -1]`, the calculate the cost from that and `labels_`."
   ]
  },
  {
   "cell_type": "code",
   "execution_count": 21,
   "metadata": {
    "collapsed": true
   },
   "outputs": [],
   "source": [
    "with graph.as_default():\n",
    "    predictions = tf.contrib.layers.fully_connected(outputs[:, -1], 1, activation_fn=tf.sigmoid)\n",
    "    cost = tf.losses.mean_squared_error(labels_, predictions)\n",
    "    \n",
    "    optimizer = tf.train.AdamOptimizer(learning_rate).minimize(cost)"
   ]
  },
  {
   "cell_type": "markdown",
   "metadata": {},
   "source": [
    "### Validation accuracy\n",
    "\n",
    "Here we can add a few nodes to calculate the accuracy which we'll use in the validation pass."
   ]
  },
  {
   "cell_type": "code",
   "execution_count": 22,
   "metadata": {
    "collapsed": true
   },
   "outputs": [],
   "source": [
    "with graph.as_default():\n",
    "    correct_pred = tf.equal(tf.cast(tf.round(predictions), tf.int32), labels_)\n",
    "    accuracy = tf.reduce_mean(tf.cast(correct_pred, tf.float32))"
   ]
  },
  {
   "cell_type": "markdown",
   "metadata": {},
   "source": [
    "### Batching\n",
    "\n",
    "This is a simple function for returning batches from our data. First it removes data such that we only have full batches. Then it iterates through the `x` and `y` arrays and returns slices out of those arrays with size `[batch_size]`."
   ]
  },
  {
   "cell_type": "code",
   "execution_count": 23,
   "metadata": {
    "collapsed": true
   },
   "outputs": [],
   "source": [
    "def get_batches(x, y, batch_size=100):\n",
    "    \n",
    "    n_batches = len(x)//batch_size\n",
    "    x, y = x[:n_batches*batch_size], y[:n_batches*batch_size]\n",
    "    for ii in range(0, len(x), batch_size):\n",
    "        yield x[ii:ii+batch_size], y[ii:ii+batch_size]"
   ]
  },
  {
   "cell_type": "markdown",
   "metadata": {},
   "source": [
    "## Training\n",
    "\n",
    "Below is the typical training code. If you want to do this yourself, feel free to delete all this code and implement it yourself. Before you run this, make sure the `checkpoints` directory exists."
   ]
  },
  {
   "cell_type": "code",
   "execution_count": 24,
   "metadata": {},
   "outputs": [
    {
     "name": "stdout",
     "output_type": "stream",
     "text": [
      "Epoch: 0/25 Iteration: 5 Train loss: 0.248\n",
      "Epoch: 0/25 Iteration: 10 Train loss: 0.247\n",
      "Epoch: 0/25 Iteration: 15 Train loss: 0.226\n",
      "Epoch: 0/25 Iteration: 20 Train loss: 0.230\n",
      "Epoch: 0/25 Iteration: 25 Train loss: 0.214\n",
      "Val acc: 0.695\n",
      "Epoch: 0/25 Iteration: 30 Train loss: 0.232\n",
      "Epoch: 0/25 Iteration: 35 Train loss: 0.228\n",
      "Epoch: 0/25 Iteration: 40 Train loss: 0.224\n",
      "Epoch: 1/25 Iteration: 45 Train loss: 0.191\n",
      "Epoch: 1/25 Iteration: 50 Train loss: 0.194\n",
      "Val acc: 0.723\n",
      "Epoch: 1/25 Iteration: 55 Train loss: 0.149\n",
      "Epoch: 1/25 Iteration: 60 Train loss: 0.144\n",
      "Epoch: 1/25 Iteration: 65 Train loss: 0.150\n",
      "Epoch: 1/25 Iteration: 70 Train loss: 0.148\n",
      "Epoch: 1/25 Iteration: 75 Train loss: 0.127\n",
      "Val acc: 0.798\n",
      "Epoch: 1/25 Iteration: 80 Train loss: 0.137\n",
      "Epoch: 2/25 Iteration: 85 Train loss: 0.101\n",
      "Epoch: 2/25 Iteration: 90 Train loss: 0.124\n",
      "Epoch: 2/25 Iteration: 95 Train loss: 0.086\n",
      "Epoch: 2/25 Iteration: 100 Train loss: 0.082\n",
      "Val acc: 0.834\n",
      "Epoch: 2/25 Iteration: 105 Train loss: 0.068\n",
      "Epoch: 2/25 Iteration: 110 Train loss: 0.120\n",
      "Epoch: 2/25 Iteration: 115 Train loss: 0.101\n",
      "Epoch: 2/25 Iteration: 120 Train loss: 0.112\n",
      "Epoch: 3/25 Iteration: 125 Train loss: 0.076\n",
      "Val acc: 0.847\n",
      "Epoch: 3/25 Iteration: 130 Train loss: 0.129\n",
      "Epoch: 3/25 Iteration: 135 Train loss: 0.154\n",
      "Epoch: 3/25 Iteration: 140 Train loss: 0.183\n",
      "Epoch: 3/25 Iteration: 145 Train loss: 0.087\n",
      "Epoch: 3/25 Iteration: 150 Train loss: 0.136\n",
      "Val acc: 0.800\n",
      "Epoch: 3/25 Iteration: 155 Train loss: 0.104\n",
      "Epoch: 3/25 Iteration: 160 Train loss: 0.109\n",
      "Epoch: 4/25 Iteration: 165 Train loss: 0.086\n",
      "Epoch: 4/25 Iteration: 170 Train loss: 0.107\n",
      "Epoch: 4/25 Iteration: 175 Train loss: 0.081\n",
      "Val acc: 0.843\n",
      "Epoch: 4/25 Iteration: 180 Train loss: 0.099\n",
      "Epoch: 4/25 Iteration: 185 Train loss: 0.068\n",
      "Epoch: 4/25 Iteration: 190 Train loss: 0.071\n",
      "Epoch: 4/25 Iteration: 195 Train loss: 0.057\n",
      "Epoch: 4/25 Iteration: 200 Train loss: 0.080\n",
      "Val acc: 0.851\n",
      "Epoch: 5/25 Iteration: 205 Train loss: 0.059\n",
      "Epoch: 5/25 Iteration: 210 Train loss: 0.066\n",
      "Epoch: 5/25 Iteration: 215 Train loss: 0.079\n",
      "Epoch: 5/25 Iteration: 220 Train loss: 0.081\n",
      "Epoch: 5/25 Iteration: 225 Train loss: 0.042\n",
      "Val acc: 0.800\n",
      "Epoch: 5/25 Iteration: 230 Train loss: 0.094\n",
      "Epoch: 5/25 Iteration: 235 Train loss: 0.053\n",
      "Epoch: 5/25 Iteration: 240 Train loss: 0.069\n",
      "Epoch: 6/25 Iteration: 245 Train loss: 0.036\n",
      "Epoch: 6/25 Iteration: 250 Train loss: 0.046\n",
      "Val acc: 0.862\n",
      "Epoch: 6/25 Iteration: 255 Train loss: 0.045\n",
      "Epoch: 6/25 Iteration: 260 Train loss: 0.067\n",
      "Epoch: 6/25 Iteration: 265 Train loss: 0.045\n",
      "Epoch: 6/25 Iteration: 270 Train loss: 0.067\n",
      "Epoch: 6/25 Iteration: 275 Train loss: 0.062\n",
      "Val acc: 0.842\n",
      "Epoch: 6/25 Iteration: 280 Train loss: 0.078\n",
      "Epoch: 7/25 Iteration: 285 Train loss: 0.050\n",
      "Epoch: 7/25 Iteration: 290 Train loss: 0.061\n",
      "Epoch: 7/25 Iteration: 295 Train loss: 0.040\n",
      "Epoch: 7/25 Iteration: 300 Train loss: 0.041\n",
      "Val acc: 0.873\n",
      "Epoch: 7/25 Iteration: 305 Train loss: 0.030\n",
      "Epoch: 7/25 Iteration: 310 Train loss: 0.038\n",
      "Epoch: 7/25 Iteration: 315 Train loss: 0.052\n",
      "Epoch: 7/25 Iteration: 320 Train loss: 0.051\n",
      "Epoch: 8/25 Iteration: 325 Train loss: 0.226\n",
      "Val acc: 0.669\n",
      "Epoch: 8/25 Iteration: 330 Train loss: 0.332\n",
      "Epoch: 8/25 Iteration: 335 Train loss: 0.192\n",
      "Epoch: 8/25 Iteration: 340 Train loss: 0.157\n",
      "Epoch: 8/25 Iteration: 345 Train loss: 0.121\n",
      "Epoch: 8/25 Iteration: 350 Train loss: 0.366\n",
      "Val acc: 0.528\n",
      "Epoch: 8/25 Iteration: 355 Train loss: 0.229\n",
      "Epoch: 8/25 Iteration: 360 Train loss: 0.212\n",
      "Epoch: 9/25 Iteration: 365 Train loss: 0.169\n",
      "Epoch: 9/25 Iteration: 370 Train loss: 0.108\n",
      "Epoch: 9/25 Iteration: 375 Train loss: 0.056\n",
      "Val acc: 0.663\n",
      "Epoch: 9/25 Iteration: 380 Train loss: 0.057\n",
      "Epoch: 9/25 Iteration: 385 Train loss: 0.056\n",
      "Epoch: 9/25 Iteration: 390 Train loss: 0.055\n",
      "Epoch: 9/25 Iteration: 395 Train loss: 0.055\n",
      "Epoch: 9/25 Iteration: 400 Train loss: 0.055\n",
      "Val acc: 0.564\n",
      "Epoch: 10/25 Iteration: 405 Train loss: 0.403\n",
      "Epoch: 10/25 Iteration: 410 Train loss: 0.398\n",
      "Epoch: 10/25 Iteration: 415 Train loss: 0.379\n",
      "Epoch: 10/25 Iteration: 420 Train loss: 0.289\n",
      "Epoch: 10/25 Iteration: 425 Train loss: 0.177\n",
      "Val acc: 0.680\n",
      "Epoch: 10/25 Iteration: 430 Train loss: 0.167\n",
      "Epoch: 10/25 Iteration: 435 Train loss: 0.140\n",
      "Epoch: 10/25 Iteration: 440 Train loss: 0.129\n",
      "Epoch: 11/25 Iteration: 445 Train loss: 0.075\n",
      "Epoch: 11/25 Iteration: 450 Train loss: 0.035\n",
      "Val acc: 0.722\n",
      "Epoch: 11/25 Iteration: 455 Train loss: 0.019\n",
      "Epoch: 11/25 Iteration: 460 Train loss: 0.020\n",
      "Epoch: 11/25 Iteration: 465 Train loss: 0.020\n",
      "Epoch: 11/25 Iteration: 470 Train loss: 0.020\n",
      "Epoch: 11/25 Iteration: 475 Train loss: 0.020\n",
      "Val acc: 0.536\n",
      "Epoch: 11/25 Iteration: 480 Train loss: 0.020\n",
      "Epoch: 12/25 Iteration: 485 Train loss: 0.425\n",
      "Epoch: 12/25 Iteration: 490 Train loss: 0.327\n",
      "Epoch: 12/25 Iteration: 495 Train loss: 0.077\n",
      "Epoch: 12/25 Iteration: 500 Train loss: 0.259\n",
      "Val acc: 0.725\n",
      "Epoch: 12/25 Iteration: 505 Train loss: 0.268\n",
      "Epoch: 12/25 Iteration: 510 Train loss: 0.212\n",
      "Epoch: 12/25 Iteration: 515 Train loss: 0.207\n",
      "Epoch: 12/25 Iteration: 520 Train loss: 0.216\n",
      "Epoch: 13/25 Iteration: 525 Train loss: 0.195\n",
      "Val acc: 0.629\n",
      "Epoch: 13/25 Iteration: 530 Train loss: 0.201\n",
      "Epoch: 13/25 Iteration: 535 Train loss: 0.184\n",
      "Epoch: 13/25 Iteration: 540 Train loss: 0.165\n",
      "Epoch: 13/25 Iteration: 545 Train loss: 0.114\n",
      "Epoch: 13/25 Iteration: 550 Train loss: 0.085\n",
      "Val acc: 0.844\n",
      "Epoch: 13/25 Iteration: 555 Train loss: 0.086\n",
      "Epoch: 13/25 Iteration: 560 Train loss: 0.103\n",
      "Epoch: 14/25 Iteration: 565 Train loss: 0.061\n",
      "Epoch: 14/25 Iteration: 570 Train loss: 0.075\n",
      "Epoch: 14/25 Iteration: 575 Train loss: 0.066\n",
      "Val acc: 0.844\n",
      "Epoch: 14/25 Iteration: 580 Train loss: 0.072\n",
      "Epoch: 14/25 Iteration: 585 Train loss: 0.036\n",
      "Epoch: 14/25 Iteration: 590 Train loss: 0.050\n",
      "Epoch: 14/25 Iteration: 595 Train loss: 0.043\n",
      "Epoch: 14/25 Iteration: 600 Train loss: 0.048\n",
      "Val acc: 0.852\n",
      "Epoch: 15/25 Iteration: 605 Train loss: 0.033\n",
      "Epoch: 15/25 Iteration: 610 Train loss: 0.032\n",
      "Epoch: 15/25 Iteration: 615 Train loss: 0.024\n",
      "Epoch: 15/25 Iteration: 620 Train loss: 0.040\n",
      "Epoch: 15/25 Iteration: 625 Train loss: 0.020\n",
      "Val acc: 0.875\n",
      "Epoch: 15/25 Iteration: 630 Train loss: 0.029\n",
      "Epoch: 15/25 Iteration: 635 Train loss: 0.019\n",
      "Epoch: 15/25 Iteration: 640 Train loss: 0.031\n",
      "Epoch: 16/25 Iteration: 645 Train loss: 0.024\n",
      "Epoch: 16/25 Iteration: 650 Train loss: 0.033\n",
      "Val acc: 0.844\n",
      "Epoch: 16/25 Iteration: 655 Train loss: 0.061\n",
      "Epoch: 16/25 Iteration: 660 Train loss: 0.044\n",
      "Epoch: 16/25 Iteration: 665 Train loss: 0.026\n",
      "Epoch: 16/25 Iteration: 670 Train loss: 0.038\n",
      "Epoch: 16/25 Iteration: 675 Train loss: 0.015\n",
      "Val acc: 0.874\n",
      "Epoch: 16/25 Iteration: 680 Train loss: 0.021\n",
      "Epoch: 17/25 Iteration: 685 Train loss: 0.017\n",
      "Epoch: 17/25 Iteration: 690 Train loss: 0.026\n",
      "Epoch: 17/25 Iteration: 695 Train loss: 0.010\n",
      "Epoch: 17/25 Iteration: 700 Train loss: 0.023\n",
      "Val acc: 0.866\n",
      "Epoch: 17/25 Iteration: 705 Train loss: 0.014\n",
      "Epoch: 17/25 Iteration: 710 Train loss: 0.032\n",
      "Epoch: 17/25 Iteration: 715 Train loss: 0.010\n",
      "Epoch: 17/25 Iteration: 720 Train loss: 0.016\n",
      "Epoch: 18/25 Iteration: 725 Train loss: 0.013\n",
      "Val acc: 0.880\n",
      "Epoch: 18/25 Iteration: 730 Train loss: 0.012\n",
      "Epoch: 18/25 Iteration: 735 Train loss: 0.011\n",
      "Epoch: 18/25 Iteration: 740 Train loss: 0.013\n",
      "Epoch: 18/25 Iteration: 745 Train loss: 0.009\n",
      "Epoch: 18/25 Iteration: 750 Train loss: 0.020\n",
      "Val acc: 0.867\n",
      "Epoch: 18/25 Iteration: 755 Train loss: 0.009\n",
      "Epoch: 18/25 Iteration: 760 Train loss: 0.012\n",
      "Epoch: 19/25 Iteration: 765 Train loss: 0.009\n",
      "Epoch: 19/25 Iteration: 770 Train loss: 0.012\n",
      "Epoch: 19/25 Iteration: 775 Train loss: 0.007\n",
      "Val acc: 0.846\n",
      "Epoch: 19/25 Iteration: 780 Train loss: 0.022\n",
      "Epoch: 19/25 Iteration: 785 Train loss: 0.013\n",
      "Epoch: 19/25 Iteration: 790 Train loss: 0.024\n",
      "Epoch: 19/25 Iteration: 795 Train loss: 0.013\n",
      "Epoch: 19/25 Iteration: 800 Train loss: 0.015\n",
      "Val acc: 0.854\n",
      "Epoch: 20/25 Iteration: 805 Train loss: 0.015\n",
      "Epoch: 20/25 Iteration: 810 Train loss: 0.010\n",
      "Epoch: 20/25 Iteration: 815 Train loss: 0.014\n",
      "Epoch: 20/25 Iteration: 820 Train loss: 0.033\n",
      "Epoch: 20/25 Iteration: 825 Train loss: 0.027\n",
      "Val acc: 0.855\n",
      "Epoch: 20/25 Iteration: 830 Train loss: 0.032\n",
      "Epoch: 20/25 Iteration: 835 Train loss: 0.020\n",
      "Epoch: 20/25 Iteration: 840 Train loss: 0.023\n",
      "Epoch: 21/25 Iteration: 845 Train loss: 0.026\n",
      "Epoch: 21/25 Iteration: 850 Train loss: 0.024\n"
     ]
    },
    {
     "name": "stdout",
     "output_type": "stream",
     "text": [
      "Val acc: 0.828\n",
      "Epoch: 21/25 Iteration: 855 Train loss: 0.018\n",
      "Epoch: 21/25 Iteration: 860 Train loss: 0.016\n",
      "Epoch: 21/25 Iteration: 865 Train loss: 0.009\n",
      "Epoch: 21/25 Iteration: 870 Train loss: 0.017\n",
      "Epoch: 21/25 Iteration: 875 Train loss: 0.007\n",
      "Val acc: 0.850\n",
      "Epoch: 21/25 Iteration: 880 Train loss: 0.010\n",
      "Epoch: 22/25 Iteration: 885 Train loss: 0.009\n",
      "Epoch: 22/25 Iteration: 890 Train loss: 0.005\n",
      "Epoch: 22/25 Iteration: 895 Train loss: 0.010\n",
      "Epoch: 22/25 Iteration: 900 Train loss: 0.013\n",
      "Val acc: 0.776\n",
      "Epoch: 22/25 Iteration: 905 Train loss: 0.012\n",
      "Epoch: 22/25 Iteration: 910 Train loss: 0.024\n",
      "Epoch: 22/25 Iteration: 915 Train loss: 0.010\n",
      "Epoch: 22/25 Iteration: 920 Train loss: 0.013\n",
      "Epoch: 23/25 Iteration: 925 Train loss: 0.012\n",
      "Val acc: 0.814\n",
      "Epoch: 23/25 Iteration: 930 Train loss: 0.004\n",
      "Epoch: 23/25 Iteration: 935 Train loss: 0.005\n",
      "Epoch: 23/25 Iteration: 940 Train loss: 0.010\n",
      "Epoch: 23/25 Iteration: 945 Train loss: 0.015\n",
      "Epoch: 23/25 Iteration: 950 Train loss: 0.013\n",
      "Val acc: 0.858\n",
      "Epoch: 23/25 Iteration: 955 Train loss: 0.006\n",
      "Epoch: 23/25 Iteration: 960 Train loss: 0.016\n",
      "Epoch: 24/25 Iteration: 965 Train loss: 0.007\n",
      "Epoch: 24/25 Iteration: 970 Train loss: 0.005\n",
      "Epoch: 24/25 Iteration: 975 Train loss: 0.002\n",
      "Val acc: 0.857\n",
      "Epoch: 24/25 Iteration: 980 Train loss: 0.008\n",
      "Epoch: 24/25 Iteration: 985 Train loss: 0.006\n",
      "Epoch: 24/25 Iteration: 990 Train loss: 0.009\n",
      "Epoch: 24/25 Iteration: 995 Train loss: 0.004\n",
      "Epoch: 24/25 Iteration: 1000 Train loss: 0.008\n",
      "Val acc: 0.860\n",
      "WARNING:tensorflow:Error encountered when serializing LAYER_NAME_UIDS.\n",
      "Type is unsupported, or the types of the items don't match field type in CollectionDef.\n",
      "'dict' object has no attribute 'name'\n"
     ]
    }
   ],
   "source": [
    "epochs = 25\n",
    "\n",
    "with graph.as_default():\n",
    "    saver = tf.train.Saver()\n",
    "\n",
    "with tf.Session(graph=graph) as sess:\n",
    "    sess.run(tf.global_variables_initializer())\n",
    "    iteration = 1\n",
    "    for e in range(epochs):\n",
    "        state = sess.run(initial_state)\n",
    "        \n",
    "        for ii, (x, y) in enumerate(get_batches(train_x, train_y, batch_size), 1):\n",
    "            feed = {inputs_: x,\n",
    "                    labels_: y[:, None],\n",
    "                    keep_prob: 0.5,\n",
    "                    initial_state: state}\n",
    "            loss, state, _ = sess.run([cost, final_state, optimizer], feed_dict=feed)\n",
    "            \n",
    "            if iteration%5==0:\n",
    "                print(\"Epoch: {}/{}\".format(e, epochs),\n",
    "                      \"Iteration: {}\".format(iteration),\n",
    "                      \"Train loss: {:.3f}\".format(loss))\n",
    "\n",
    "            if iteration%25==0:\n",
    "                val_acc = []\n",
    "                val_state = sess.run(cell.zero_state(batch_size, tf.float32))\n",
    "                for x, y in get_batches(val_x, val_y, batch_size):\n",
    "                    feed = {inputs_: x,\n",
    "                            labels_: y[:, None],\n",
    "                            keep_prob: 1,\n",
    "                            initial_state: val_state}\n",
    "                    batch_acc, val_state = sess.run([accuracy, final_state], feed_dict=feed)\n",
    "                    val_acc.append(batch_acc)\n",
    "                print(\"Val acc: {:.3f}\".format(np.mean(val_acc)))\n",
    "            iteration +=1\n",
    "    saver.save(sess, \"checkpoints/sentiment.ckpt\")"
   ]
  },
  {
   "cell_type": "markdown",
   "metadata": {},
   "source": [
    "## Testing"
   ]
  },
  {
   "cell_type": "code",
   "execution_count": 25,
   "metadata": {},
   "outputs": [
    {
     "name": "stdout",
     "output_type": "stream",
     "text": [
      "INFO:tensorflow:Restoring parameters from checkpoints/sentiment.ckpt\n",
      "Test accuracy: 0.842\n"
     ]
    }
   ],
   "source": [
    "test_acc = []\n",
    "with tf.Session(graph=graph) as sess:\n",
    "    saver.restore(sess, tf.train.latest_checkpoint('checkpoints'))\n",
    "    test_state = sess.run(cell.zero_state(batch_size, tf.float32))\n",
    "    for ii, (x, y) in enumerate(get_batches(test_x, test_y, batch_size), 1):\n",
    "        feed = {inputs_: x,\n",
    "                labels_: y[:, None],\n",
    "                keep_prob: 1,\n",
    "                initial_state: test_state}\n",
    "        batch_acc, test_state = sess.run([accuracy, final_state], feed_dict=feed)\n",
    "        test_acc.append(batch_acc)\n",
    "        #print(x.shape,y.shape)\n",
    "    print(\"Test accuracy: {:.3f}\".format(np.mean(test_acc)))"
   ]
  },
  {
   "cell_type": "code",
   "execution_count": null,
   "metadata": {
    "collapsed": true
   },
   "outputs": [],
   "source": []
  }
 ],
 "metadata": {
  "kernelspec": {
   "display_name": "Python 3",
   "language": "python",
   "name": "python3"
  },
  "language_info": {
   "codemirror_mode": {
    "name": "ipython",
    "version": 3
   },
   "file_extension": ".py",
   "mimetype": "text/x-python",
   "name": "python",
   "nbconvert_exporter": "python",
   "pygments_lexer": "ipython3",
   "version": "3.6.1"
  }
 },
 "nbformat": 4,
 "nbformat_minor": 2
}
